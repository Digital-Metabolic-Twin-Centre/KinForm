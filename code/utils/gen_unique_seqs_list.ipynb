{
 "cells": [
  {
   "cell_type": "code",
   "execution_count": 1,
   "id": "2d05279c",
   "metadata": {},
   "outputs": [],
   "source": [
    "from pathlib import Path\n",
    "import json\n",
    "DATA_DIR     = Path(\"/home/saleh/KinForm-1\")\n",
    "RAW_DLKCAT     = DATA_DIR / \"data/dlkcat_raw.json\"\n",
    "RAW_KM = DATA_DIR / \"data/KM_data_raw.json\"\n",
    "RAW_EITLEM  = DATA_DIR / \"data/EITLEM_data/KCAT/kcat_data.json\"\n",
    "SEQ_LOOKUP   = DATA_DIR / \"results/sequence_id_to_sequence.pkl\""
   ]
  },
  {
   "cell_type": "code",
   "execution_count": 8,
   "id": "aaac9547",
   "metadata": {},
   "outputs": [],
   "source": [
    "import pickle\n",
    "with open(SEQ_LOOKUP, \"rb\") as f:\n",
    "    seq_id_to_sequence = pickle.load(f)\n",
    "sequnece_to_seq_id = {v: k for k, v in seq_id_to_sequence.items()}"
   ]
  },
  {
   "cell_type": "code",
   "execution_count": 10,
   "id": "13754d63",
   "metadata": {},
   "outputs": [],
   "source": [
    "# Load dlkcat sequences\n",
    "raw = [\n",
    "    d\n",
    "    for d in json.loads(RAW_DLKCAT.read_text())\n",
    "    if len(d[\"Sequence\"]) <= 1499 and float(d[\"Value\"]) > 0 and \".\" not in d[\"Smiles\"]\n",
    "]\n",
    "sequences_dlkcat = [d[\"Sequence\"] for d in raw]\n",
    "seq_ids_dlkcat = [sequnece_to_seq_id[s] for s in sequences_dlkcat]"
   ]
  },
  {
   "cell_type": "code",
   "execution_count": 11,
   "id": "970e8422",
   "metadata": {},
   "outputs": [],
   "source": [
    "# Load KM sequences\n",
    "with open(RAW_KM, 'r') as fp:\n",
    "    raw = json.load(fp)\n",
    "\n",
    "raw = [d for d in raw if len(d[\"Sequence\"]) <= 1499 and \".\" not in d[\"smiles\"]]\n",
    "sequences_km = [d[\"Sequence\"] for d in raw]\n",
    "seq_ids_km = [sequnece_to_seq_id[s] for s in sequences_km]"
   ]
  },
  {
   "cell_type": "code",
   "execution_count": 13,
   "id": "11057c2a",
   "metadata": {},
   "outputs": [],
   "source": [
    "# Load EITLEM sequences\n",
    "with RAW_EITLEM.open() as fp:\n",
    "    raw = json.load(fp)\n",
    "valid = [(i, r) for i, r in enumerate(raw) if len(r[\"sequence\"]) <= 1499 and float(r[\"value\"]) > 0]\n",
    "orig_idx = [i for i, _ in valid]\n",
    "seqs = [r[\"sequence\"] for _, r in valid]\n",
    "seq_ids_eitlem = [sequnece_to_seq_id[s] for s in seqs]"
   ]
  },
  {
   "cell_type": "code",
   "execution_count": 18,
   "id": "7eb0c0f4",
   "metadata": {},
   "outputs": [
    {
     "name": "stdout",
     "output_type": "stream",
     "text": [
      "DLKCat: 16775\n",
      "KM: 11669\n",
      "EITLEM: 35001\n",
      "Total unique sequences: 19517\n"
     ]
    }
   ],
   "source": [
    "unique_seq_ids = set(seq_ids_dlkcat + seq_ids_km + seq_ids_eitlem)\n",
    "print(\"DLKCat:\", len(seq_ids_dlkcat))\n",
    "print(\"KM:\", len(seq_ids_km))\n",
    "print(\"EITLEM:\", len(seq_ids_eitlem))\n",
    "print(\"Total unique sequences:\", len(unique_seq_ids))\n",
    "# Save unique sequence IDs to a file\n",
    "with open(\"/home/saleh/KinForm-1/data/unique_seq_ids.txt\", \"w\") as f:\n",
    "    for seq_id in unique_seq_ids:\n",
    "        f.write(f\"{seq_id}\\n\")"
   ]
  }
 ],
 "metadata": {
  "kernelspec": {
   "display_name": "kp_pred (3.10.12)",
   "language": "python",
   "name": "python3"
  },
  "language_info": {
   "codemirror_mode": {
    "name": "ipython",
    "version": 3
   },
   "file_extension": ".py",
   "mimetype": "text/x-python",
   "name": "python",
   "nbconvert_exporter": "python",
   "pygments_lexer": "ipython3",
   "version": "3.10.12"
  }
 },
 "nbformat": 4,
 "nbformat_minor": 5
}
