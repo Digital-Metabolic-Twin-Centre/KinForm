{
 "cells": [
  {
   "cell_type": "code",
   "execution_count": 24,
   "id": "200c3ae8",
   "metadata": {},
   "outputs": [],
   "source": [
    "from pathlib import Path\n",
    "DATA_DIR     = Path(\"/home/saleh/KinForm-1\")\n",
    "ROOT        = Path(\"/home/saleh/KinForm-1\")\n",
    "EITLEM_DIR  = ROOT / \"data/EITLEM_data\"\n",
    "RAW_DLKCAT     = DATA_DIR / \"data/dlkcat_raw.json\"\n",
    "EITLEM_JSON   = EITLEM_DIR / \"KCAT/kcat_data.json\"\n",
    "SEQ_LOOKUP   = DATA_DIR / \"results/sequence_id_to_sequence.pkl\"\n",
    "import pickle\n",
    "import json\n",
    "import pandas as pd\n",
    "# write fasta with all unique sequences\n",
    "\n",
    "# read DLKCAT\n",
    "seq_look_up = pickle.load(SEQ_LOOKUP.open(\"rb\"))\n",
    "seq_to_id = {v: k for k, v in seq_look_up.items()}"
   ]
  },
  {
   "cell_type": "code",
   "execution_count": 28,
   "id": "b4b19b10",
   "metadata": {},
   "outputs": [],
   "source": [
    "raw = [\n",
    "    d\n",
    "    for d in json.loads(RAW_DLKCAT.read_text())\n",
    "    if len(d[\"Sequence\"]) <= 1_499 and float(d[\"Value\"]) > 0 and \".\" not in d[\"Smiles\"]\n",
    "]\n",
    "sequences = [d[\"Sequence\"] for d in raw]\n",
    "seq_ids_dlkcat = [seq_to_id[s] for s in sequences]\n"
   ]
  },
  {
   "cell_type": "code",
   "execution_count": 25,
   "id": "80af3546",
   "metadata": {},
   "outputs": [],
   "source": [
    "#read eitlem\n",
    "with EITLEM_JSON.open() as fp:\n",
    "    raw = json.load(fp)\n",
    "valid = [(i, r) for i, r in enumerate(raw) if len(r[\"sequence\"]) <= 1499 and float(r[\"value\"]) > 0]\n",
    "orig_idx = [i for i, _ in valid]\n",
    "seqs = [r[\"sequence\"] for _, r in valid]\n",
    "seq_ids_eitlem = [seq_to_id[s] for s in seqs]"
   ]
  },
  {
   "cell_type": "code",
   "execution_count": 26,
   "id": "362227b6",
   "metadata": {},
   "outputs": [],
   "source": [
    "#read KM data\n",
    "with open(\"/home/saleh/KinForm-1/data/KM_data_raw.json\", 'r') as fp:\n",
    "    raw = json.load(fp)\n",
    "\n",
    "raw = [d for d in raw if len(d[\"Sequence\"]) <= 1499 and \".\" not in d[\"smiles\"]]\n",
    "sequences = [d[\"Sequence\"] for d in raw]\n",
    "seq_ids_km = [seq_to_id[s] for s in sequences]"
   ]
  },
  {
   "cell_type": "code",
   "execution_count": 32,
   "id": "c8cf6e1a",
   "metadata": {},
   "outputs": [],
   "source": [
    "seq_id_all = list(set(seq_ids_dlkcat + seq_ids_eitlem + seq_ids_km))\n",
    "# write fasta with all unique sequences\n",
    "with open(DATA_DIR / \"data/unique_sequences.fasta\", 'w') as fp:\n",
    "    for seq_id in seq_id_all:\n",
    "        seq = seq_look_up[seq_id]\n",
    "        seq_id_nospace = seq_id.replace(\" \", \"_\")\n",
    "        fp.write(f\">{seq_id_nospace}\\n{seq}\\n\")"
   ]
  },
  {
   "cell_type": "code",
   "execution_count": 42,
   "id": "a4d5098d",
   "metadata": {},
   "outputs": [],
   "source": [
    "import pandas as pd\n",
    "path = '/home/saleh/KinForm-1/results/catalytic_sites/unique_sequences_results.pkl'\n",
    "df = pd.read_pickle(path)"
   ]
  },
  {
   "cell_type": "code",
   "execution_count": null,
   "id": "41df1d63",
   "metadata": {},
   "outputs": [],
   "source": [
    "# rename 'label' column to 'sequence_id'\n",
    "# rename sequence ids from 'Sequence_{id}' to 'Sequence {id}'\n",
    "df.rename(columns={'label': 'sequence_id'}, inplace=True)\n",
    "df['sequence_id'] = df['sequence_id'].str.replace('_', ' ', regex=False)"
   ]
  },
  {
   "cell_type": "code",
   "execution_count": 70,
   "id": "08247845",
   "metadata": {},
   "outputs": [
    {
     "name": "stderr",
     "output_type": "stream",
     "text": [
      "/tmp/ipykernel_3169646/4245417682.py:1: SettingWithCopyWarning: \n",
      "A value is trying to be set on a copy of a slice from a DataFrame.\n",
      "Try using .loc[row_indexer,col_indexer] = value instead\n",
      "\n",
      "See the caveats in the documentation: https://pandas.pydata.org/pandas-docs/stable/user_guide/indexing.html#returning-a-view-versus-a-copy\n",
      "  df['all_AS_probs'] = df['all_AS_probs'].apply(str)\n"
     ]
    }
   ],
   "source": [
    "df['all_AS_probs'] = df['all_AS_probs'].apply(str)\n",
    "df = df[['sequence_id', 'all_AS_probs']]\n",
    "# Save entire dataframe\n",
    "df.to_csv(\"/home/saleh/KinForm-1/results/catalytic_sites/cat_sites.csv\", index=False)"
   ]
  },
  {
   "cell_type": "code",
   "execution_count": 71,
   "id": "6da5c047",
   "metadata": {},
   "outputs": [
    {
     "data": {
      "text/html": [
       "<div>\n",
       "<style scoped>\n",
       "    .dataframe tbody tr th:only-of-type {\n",
       "        vertical-align: middle;\n",
       "    }\n",
       "\n",
       "    .dataframe tbody tr th {\n",
       "        vertical-align: top;\n",
       "    }\n",
       "\n",
       "    .dataframe thead th {\n",
       "        text-align: right;\n",
       "    }\n",
       "</style>\n",
       "<table border=\"1\" class=\"dataframe\">\n",
       "  <thead>\n",
       "    <tr style=\"text-align: right;\">\n",
       "      <th></th>\n",
       "      <th>sequence_id</th>\n",
       "      <th>all_AS_probs</th>\n",
       "    </tr>\n",
       "  </thead>\n",
       "  <tbody>\n",
       "    <tr>\n",
       "      <th>0</th>\n",
       "      <td>Sequence 26683</td>\n",
       "      <td>[0.0019, 0.0019, 0.0018, 0.0018, 0.0023, 0.002...</td>\n",
       "    </tr>\n",
       "    <tr>\n",
       "      <th>1</th>\n",
       "      <td>Seqence 614139</td>\n",
       "      <td>[0.0019, 0.0019, 0.0018, 0.0018, 0.0018, 0.001...</td>\n",
       "    </tr>\n",
       "    <tr>\n",
       "      <th>2</th>\n",
       "      <td>Sequence 25920</td>\n",
       "      <td>[0.002, 0.0019, 0.0016, 0.0018, 0.0018, 0.0018...</td>\n",
       "    </tr>\n",
       "    <tr>\n",
       "      <th>3</th>\n",
       "      <td>Sequence 25481</td>\n",
       "      <td>[0.0019, 0.0019, 0.0018, 0.0018, 0.0018, 0.001...</td>\n",
       "    </tr>\n",
       "    <tr>\n",
       "      <th>4</th>\n",
       "      <td>Sequence 48</td>\n",
       "      <td>[0.002, 0.0019, 0.0018, 0.0018, 0.0018, 0.0018...</td>\n",
       "    </tr>\n",
       "    <tr>\n",
       "      <th>...</th>\n",
       "      <td>...</td>\n",
       "      <td>...</td>\n",
       "    </tr>\n",
       "    <tr>\n",
       "      <th>19512</th>\n",
       "      <td>Sequence 13153</td>\n",
       "      <td>[0.0019, 0.0019, 0.0018, 0.0018, 0.0018, 0.001...</td>\n",
       "    </tr>\n",
       "    <tr>\n",
       "      <th>19513</th>\n",
       "      <td>Sequence 26044</td>\n",
       "      <td>[0.0019, 0.0019, 0.0018, 0.0018, 0.0018, 0.001...</td>\n",
       "    </tr>\n",
       "    <tr>\n",
       "      <th>19514</th>\n",
       "      <td>Sequence 2260</td>\n",
       "      <td>[0.0019, 0.0019, 0.0018, 0.0018, 0.0018, 0.001...</td>\n",
       "    </tr>\n",
       "    <tr>\n",
       "      <th>19515</th>\n",
       "      <td>Sequence 25002</td>\n",
       "      <td>[0.0019, 0.0019, 0.0018, 0.0018, 0.0018, 0.001...</td>\n",
       "    </tr>\n",
       "    <tr>\n",
       "      <th>19516</th>\n",
       "      <td>Seqence 614738</td>\n",
       "      <td>[0.0019, 0.0019, 0.0018, 0.0018, 0.0018, 0.001...</td>\n",
       "    </tr>\n",
       "  </tbody>\n",
       "</table>\n",
       "<p>19517 rows × 2 columns</p>\n",
       "</div>"
      ],
      "text/plain": [
       "          sequence_id                                       all_AS_probs\n",
       "0      Sequence 26683  [0.0019, 0.0019, 0.0018, 0.0018, 0.0023, 0.002...\n",
       "1      Seqence 614139  [0.0019, 0.0019, 0.0018, 0.0018, 0.0018, 0.001...\n",
       "2      Sequence 25920  [0.002, 0.0019, 0.0016, 0.0018, 0.0018, 0.0018...\n",
       "3      Sequence 25481  [0.0019, 0.0019, 0.0018, 0.0018, 0.0018, 0.001...\n",
       "4         Sequence 48  [0.002, 0.0019, 0.0018, 0.0018, 0.0018, 0.0018...\n",
       "...               ...                                                ...\n",
       "19512  Sequence 13153  [0.0019, 0.0019, 0.0018, 0.0018, 0.0018, 0.001...\n",
       "19513  Sequence 26044  [0.0019, 0.0019, 0.0018, 0.0018, 0.0018, 0.001...\n",
       "19514   Sequence 2260  [0.0019, 0.0019, 0.0018, 0.0018, 0.0018, 0.001...\n",
       "19515  Sequence 25002  [0.0019, 0.0019, 0.0018, 0.0018, 0.0018, 0.001...\n",
       "19516  Seqence 614738  [0.0019, 0.0019, 0.0018, 0.0018, 0.0018, 0.001...\n",
       "\n",
       "[19517 rows x 2 columns]"
      ]
     },
     "execution_count": 71,
     "metadata": {},
     "output_type": "execute_result"
    }
   ],
   "source": [
    "#read csv\n",
    "df = pd.read_csv(\"/home/saleh/KinForm-1/results/catalytic_sites/cat_sites.csv\")\n",
    "# convert 'all_AS_probs' column from string representation of list to actual list\n",
    "import ast\n",
    "df['all_AS_probs'] = df['all_AS_probs'].apply(ast.literal_eval)\n",
    "df"
   ]
  },
  {
   "cell_type": "code",
   "execution_count": 77,
   "id": "2284b860",
   "metadata": {},
   "outputs": [],
   "source": [
    "path = '/home/saleh/KinForm-1/results/binding_sites/prediction_2.tsv'\n",
    "df = pd.read_csv(path, sep='\\t')"
   ]
  },
  {
   "cell_type": "code",
   "execution_count": 79,
   "id": "94709e17",
   "metadata": {},
   "outputs": [],
   "source": [
    "df ['Pred_BS_Scores'] = df['Pred_BS_Scores'].apply(ast.literal_eval)"
   ]
  }
 ],
 "metadata": {
  "kernelspec": {
   "display_name": "base",
   "language": "python",
   "name": "python3"
  },
  "language_info": {
   "codemirror_mode": {
    "name": "ipython",
    "version": 3
   },
   "file_extension": ".py",
   "mimetype": "text/x-python",
   "name": "python",
   "nbconvert_exporter": "python",
   "pygments_lexer": "ipython3",
   "version": "3.12.2"
  }
 },
 "nbformat": 4,
 "nbformat_minor": 5
}
