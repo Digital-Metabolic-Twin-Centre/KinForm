{
 "cells": [
  {
   "cell_type": "code",
   "execution_count": null,
   "id": "0e733f60",
   "metadata": {},
   "outputs": [
    {
     "name": "stdout",
     "output_type": "stream",
     "text": [
      "✔ Extracted 19,517 unique sequences\n",
      "✔ DLKcat: 7,797 sequences\n",
      "✔ EITLEM: 15,035 sequences\n",
      "✔ KM: 6,956 sequences\n",
      "✔ Written to /home/msp/saleh/pretrain_function/data/sequences.txt\n"
     ]
    }
   ],
   "source": [
    "#!/usr/bin/env python3\n",
    "# extract_unique_sequences.py -------------------------------------------\n",
    "# Extracts all unique, valid sequences from DLKcat and EITLEM sources\n",
    "# and writes them to a text file (one sequence per line)\n",
    "\n",
    "import json\n",
    "from pathlib import Path\n",
    "\n",
    "# --------------------- input paths ------------------------------------\n",
    "KINFORM_ROOT   = Path(__file__).resolve().parent.parent\n",
    "RAW_DLKCAT     = KINFORM_ROOT / \"data/dlkcat_raw.json\"\n",
    "EITLEM_JSON    = KINFORM_ROOT / \"data/EITLEM_data/KCAT/kcat_data.json\"\n",
    "KM_JSON        = KINFORM_ROOT / \"data/KM_data_raw.json\"\n",
    "OUT_PATH       = Path(\"/home/msp/saleh/pretrain_function/data/sequences.txt\")\n",
    "\n",
    "# --------------------- load DLKcat sequences --------------------------\n",
    "with RAW_DLKCAT.open() as f:\n",
    "    dlkcat_raw = json.load(f)\n",
    "\n",
    "dlkcat_sequences = [\n",
    "    d[\"Sequence\"]\n",
    "    for d in dlkcat_raw\n",
    "    if len(d[\"Sequence\"]) <= 1499 and float(d[\"Value\"]) > 0 and \".\" not in d[\"Smiles\"]\n",
    "]\n",
    "\n",
    "# --------------------- load EITLEM sequences --------------------------\n",
    "with EITLEM_JSON.open() as f:\n",
    "    eitlem_raw = json.load(f)\n",
    "\n",
    "eitlem_sequences = [\n",
    "    r[\"sequence\"]\n",
    "    for r in eitlem_raw\n",
    "    if len(r[\"sequence\"]) <= 1499 and float(r[\"value\"]) > 0\n",
    "]\n",
    "\n",
    "# --------------------- load KM sequences ------------------------------\n",
    "with KM_JSON.open() as f:\n",
    "    km_raw = json.load(f)\n",
    "\n",
    "km_sequences = [\n",
    "    d[\"Sequence\"]\n",
    "    for d in km_raw\n",
    "    if len(d[\"Sequence\"]) <= 1499 and \".\" not in d[\"smiles\"]\n",
    "]\n",
    "\n",
    "# --------------------- combine and deduplicate ------------------------\n",
    "all_sequences = set(dlkcat_sequences) | set(eitlem_sequences) | set(km_sequences)\n",
    "\n",
    "print(f\"✔ Extracted {len(all_sequences):,} unique sequences\")\n",
    "print(f\"✔ DLKcat: {len(list(set(dlkcat_sequences))):,} sequences\")\n",
    "print(f\"✔ EITLEM: {len(list(set(eitlem_sequences))):,} sequences\")\n",
    "print(f\"✔ KM: {len(list(set(km_sequences))):,} sequences\")\n",
    "\n",
    "# --------------------- write to text file -----------------------------\n",
    "with OUT_PATH.open(\"w\") as f:\n",
    "    for seq in sorted(all_sequences):\n",
    "        f.write(seq + \"\\n\")\n",
    "\n",
    "print(f\"✔ Written to {OUT_PATH}\")"
   ]
  },
  {
   "cell_type": "code",
   "execution_count": null,
   "id": "82474f51",
   "metadata": {},
   "outputs": [],
   "source": []
  }
 ],
 "metadata": {
  "kernelspec": {
   "display_name": "base",
   "language": "python",
   "name": "python3"
  },
  "language_info": {
   "codemirror_mode": {
    "name": "ipython",
    "version": 3
   },
   "file_extension": ".py",
   "mimetype": "text/x-python",
   "name": "python",
   "nbconvert_exporter": "python",
   "pygments_lexer": "ipython3",
   "version": "3.12.2"
  }
 },
 "nbformat": 4,
 "nbformat_minor": 5
}
